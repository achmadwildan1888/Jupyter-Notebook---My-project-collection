{
 "cells": [
  {
   "cell_type": "code",
   "execution_count": 1,
   "metadata": {},
   "outputs": [],
   "source": [
    "import pandas as pd\n",
    "import numpy as np\n",
    "import matplotlib.pyplot as plt\n",
    "\n",
    "from sklearn.datasets import fetch_lfw_people\n",
    "people = fetch_lfw_people(min_faces_per_person = 70, resize = 0.4)"
   ]
  },
  {
   "cell_type": "code",
   "execution_count": 2,
   "metadata": {},
   "outputs": [
    {
     "data": {
      "text/plain": [
       "['DESCR', 'data', 'images', 'target', 'target_names']"
      ]
     },
     "execution_count": 2,
     "metadata": {},
     "output_type": "execute_result"
    }
   ],
   "source": [
    "dir(people)"
   ]
  },
  {
   "cell_type": "code",
   "execution_count": 3,
   "metadata": {},
   "outputs": [
    {
     "data": {
      "text/plain": [
       "37"
      ]
     },
     "execution_count": 3,
     "metadata": {},
     "output_type": "execute_result"
    }
   ],
   "source": [
    "len(people['images'][0]) #50\n",
    "len(people['images'][0][0]) #37"
   ]
  },
  {
   "cell_type": "code",
   "execution_count": 9,
   "metadata": {},
   "outputs": [
    {
     "name": "stdout",
     "output_type": "stream",
     "text": [
      "Colin Powell\n"
     ]
    }
   ],
   "source": [
    "print(people['target_names'][1])"
   ]
  },
  {
   "cell_type": "code",
   "execution_count": 10,
   "metadata": {},
   "outputs": [
    {
     "data": {
      "text/plain": [
       "<matplotlib.image.AxesImage at 0x1f8a36ded30>"
      ]
     },
     "execution_count": 10,
     "metadata": {},
     "output_type": "execute_result"
    },
    {
     "data": {
      "image/png": "[encoded data removed]",
      "text/plain": [
       "<Figure size 432x288 with 1 Axes>"
      ]
     },
     "metadata": {
      "needs_background": "light"
     },
     "output_type": "display_data"
    }
   ],
   "source": [
    "#plot\n",
    "\n",
    "plt.imshow(people['images'][1],cmap ='gray')"
   ]
  },
  {
   "cell_type": "code",
   "execution_count": 13,
   "metadata": {},
   "outputs": [
    {
     "data": {
      "text/html": [
       "<div>\n",
       "<style scoped>\n",
       "    .dataframe tbody tr th:only-of-type {\n",
       "        vertical-align: middle;\n",
       "    }\n",
       "\n",
       "    .dataframe tbody tr th {\n",
       "        vertical-align: top;\n",
       "    }\n",
       "\n",
       "    .dataframe thead th {\n",
       "        text-align: right;\n",
       "    }\n",
       "</style>\n",
       "<table border=\"1\" class=\"dataframe\">\n",
       "  <thead>\n",
       "    <tr style=\"text-align: right;\">\n",
       "      <th></th>\n",
       "      <th>0</th>\n",
       "      <th>1</th>\n",
       "      <th>2</th>\n",
       "      <th>3</th>\n",
       "      <th>4</th>\n",
       "      <th>5</th>\n",
       "      <th>6</th>\n",
       "      <th>7</th>\n",
       "      <th>8</th>\n",
       "      <th>9</th>\n",
       "      <th>...</th>\n",
       "      <th>1842</th>\n",
       "      <th>1843</th>\n",
       "      <th>1844</th>\n",
       "      <th>1845</th>\n",
       "      <th>1846</th>\n",
       "      <th>1847</th>\n",
       "      <th>1848</th>\n",
       "      <th>1849</th>\n",
       "      <th>target</th>\n",
       "      <th>nama</th>\n",
       "    </tr>\n",
       "  </thead>\n",
       "  <tbody>\n",
       "    <tr>\n",
       "      <th>0</th>\n",
       "      <td>254.333328</td>\n",
       "      <td>254.000000</td>\n",
       "      <td>252.000000</td>\n",
       "      <td>240.333328</td>\n",
       "      <td>185.333328</td>\n",
       "      <td>143.666672</td>\n",
       "      <td>174.000000</td>\n",
       "      <td>197.000000</td>\n",
       "      <td>195.666672</td>\n",
       "      <td>192.000000</td>\n",
       "      <td>...</td>\n",
       "      <td>99.000000</td>\n",
       "      <td>96.000000</td>\n",
       "      <td>92.333336</td>\n",
       "      <td>90.333336</td>\n",
       "      <td>89.333336</td>\n",
       "      <td>87.000000</td>\n",
       "      <td>88.666664</td>\n",
       "      <td>87.000000</td>\n",
       "      <td>5</td>\n",
       "      <td>Hugo Chavez</td>\n",
       "    </tr>\n",
       "    <tr>\n",
       "      <th>1</th>\n",
       "      <td>39.000000</td>\n",
       "      <td>50.666668</td>\n",
       "      <td>47.000000</td>\n",
       "      <td>54.333332</td>\n",
       "      <td>98.666664</td>\n",
       "      <td>121.000000</td>\n",
       "      <td>139.666672</td>\n",
       "      <td>157.666672</td>\n",
       "      <td>171.000000</td>\n",
       "      <td>177.333328</td>\n",
       "      <td>...</td>\n",
       "      <td>73.333336</td>\n",
       "      <td>77.333336</td>\n",
       "      <td>83.666664</td>\n",
       "      <td>103.666664</td>\n",
       "      <td>122.666664</td>\n",
       "      <td>117.666664</td>\n",
       "      <td>115.000000</td>\n",
       "      <td>133.000000</td>\n",
       "      <td>6</td>\n",
       "      <td>Tony Blair</td>\n",
       "    </tr>\n",
       "    <tr>\n",
       "      <th>2</th>\n",
       "      <td>89.666664</td>\n",
       "      <td>103.666664</td>\n",
       "      <td>126.333336</td>\n",
       "      <td>141.333328</td>\n",
       "      <td>151.666672</td>\n",
       "      <td>155.333328</td>\n",
       "      <td>155.333328</td>\n",
       "      <td>159.666672</td>\n",
       "      <td>163.000000</td>\n",
       "      <td>166.666672</td>\n",
       "      <td>...</td>\n",
       "      <td>100.000000</td>\n",
       "      <td>106.666664</td>\n",
       "      <td>125.333336</td>\n",
       "      <td>117.666664</td>\n",
       "      <td>125.000000</td>\n",
       "      <td>175.333328</td>\n",
       "      <td>183.333328</td>\n",
       "      <td>182.666672</td>\n",
       "      <td>3</td>\n",
       "      <td>George W Bush</td>\n",
       "    </tr>\n",
       "    <tr>\n",
       "      <th>3</th>\n",
       "      <td>16.666666</td>\n",
       "      <td>8.000000</td>\n",
       "      <td>6.666667</td>\n",
       "      <td>6.000000</td>\n",
       "      <td>16.333334</td>\n",
       "      <td>70.000000</td>\n",
       "      <td>170.333328</td>\n",
       "      <td>170.000000</td>\n",
       "      <td>161.000000</td>\n",
       "      <td>106.333336</td>\n",
       "      <td>...</td>\n",
       "      <td>230.000000</td>\n",
       "      <td>238.000000</td>\n",
       "      <td>239.333328</td>\n",
       "      <td>233.666672</td>\n",
       "      <td>134.000000</td>\n",
       "      <td>28.000000</td>\n",
       "      <td>38.333332</td>\n",
       "      <td>51.333332</td>\n",
       "      <td>1</td>\n",
       "      <td>Colin Powell</td>\n",
       "    </tr>\n",
       "    <tr>\n",
       "      <th>4</th>\n",
       "      <td>123.000000</td>\n",
       "      <td>121.000000</td>\n",
       "      <td>127.000000</td>\n",
       "      <td>129.333328</td>\n",
       "      <td>129.333328</td>\n",
       "      <td>134.666672</td>\n",
       "      <td>142.000000</td>\n",
       "      <td>143.000000</td>\n",
       "      <td>147.666672</td>\n",
       "      <td>152.333328</td>\n",
       "      <td>...</td>\n",
       "      <td>6.333333</td>\n",
       "      <td>5.333333</td>\n",
       "      <td>5.666667</td>\n",
       "      <td>10.333333</td>\n",
       "      <td>10.666667</td>\n",
       "      <td>22.000000</td>\n",
       "      <td>61.333332</td>\n",
       "      <td>70.333336</td>\n",
       "      <td>0</td>\n",
       "      <td>Ariel Sharon</td>\n",
       "    </tr>\n",
       "  </tbody>\n",
       "</table>\n",
       "<p>5 rows × 1852 columns</p>\n",
       "</div>"
      ],
      "text/plain": [
       "            0           1           2           3           4           5  \\\n",
       "0  254.333328  254.000000  252.000000  240.333328  185.333328  143.666672   \n",
       "1   39.000000   50.666668   47.000000   54.333332   98.666664  121.000000   \n",
       "2   89.666664  103.666664  126.333336  141.333328  151.666672  155.333328   \n",
       "3   16.666666    8.000000    6.666667    6.000000   16.333334   70.000000   \n",
       "4  123.000000  121.000000  127.000000  129.333328  129.333328  134.666672   \n",
       "\n",
       "            6           7           8           9  ...        1842  \\\n",
       "0  174.000000  197.000000  195.666672  192.000000  ...   99.000000   \n",
       "1  139.666672  157.666672  171.000000  177.333328  ...   73.333336   \n",
       "2  155.333328  159.666672  163.000000  166.666672  ...  100.000000   \n",
       "3  170.333328  170.000000  161.000000  106.333336  ...  230.000000   \n",
       "4  142.000000  143.000000  147.666672  152.333328  ...    6.333333   \n",
       "\n",
       "         1843        1844        1845        1846        1847        1848  \\\n",
       "0   96.000000   92.333336   90.333336   89.333336   87.000000   88.666664   \n",
       "1   77.333336   83.666664  103.666664  122.666664  117.666664  115.000000   \n",
       "2  106.666664  125.333336  117.666664  125.000000  175.333328  183.333328   \n",
       "3  238.000000  239.333328  233.666672  134.000000   28.000000   38.333332   \n",
       "4    5.333333    5.666667   10.333333   10.666667   22.000000   61.333332   \n",
       "\n",
       "         1849  target           nama  \n",
       "0   87.000000       5    Hugo Chavez  \n",
       "1  133.000000       6     Tony Blair  \n",
       "2  182.666672       3  George W Bush  \n",
       "3   51.333332       1   Colin Powell  \n",
       "4   70.333336       0   Ariel Sharon  \n",
       "\n",
       "[5 rows x 1852 columns]"
      ]
     },
     "execution_count": 13,
     "metadata": {},
     "output_type": "execute_result"
    }
   ],
   "source": [
    "df = pd.DataFrame(people['data'])\n",
    "df['target'] = people['target']\n",
    "df['nama'] = df['target'].apply(\n",
    "            lambda x : people['target_names'][x])\n",
    "    \n",
    "df.head()"
   ]
  },
  {
   "cell_type": "code",
   "execution_count": 21,
   "metadata": {},
   "outputs": [
    {
     "data": {
      "image/png": "[encoded data removed]",
      "text/plain": [
       "<Figure size 432x288 with 1 Axes>"
      ]
     },
     "metadata": {
      "needs_background": "light"
     },
     "output_type": "display_data"
    }
   ],
   "source": [
    "dfx = df.drop(['target','nama'],axis='columns').iloc[8]\n",
    "xplot = dfx.values.reshape(50,37)\n",
    "plt.imshow(xplot,cmap='gray')\n",
    "plt.title(df['nama'].iloc[8])\n",
    "plt.show()"
   ]
  },
  {
   "cell_type": "code",
   "execution_count": null,
   "metadata": {},
   "outputs": [],
   "source": []
  }
 ],
 "metadata": {
  "kernelspec": {
   "display_name": "Python 3",
   "language": "python",
   "name": "python3"
  },
  "language_info": {
   "codemirror_mode": {
    "name": "ipython",
    "version": 3
   },
   "file_extension": ".py",
   "mimetype": "text/x-python",
   "name": "python",
   "nbconvert_exporter": "python",
   "pygments_lexer": "ipython3",
   "version": "3.7.2"
  }
 },
 "nbformat": 4,
 "nbformat_minor": 2
}
