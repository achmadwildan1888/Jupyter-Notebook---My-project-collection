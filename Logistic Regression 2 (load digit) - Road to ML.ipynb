{
 "cells": [
  {
   "cell_type": "code",
   "execution_count": 40,
   "metadata": {},
   "outputs": [],
   "source": [
    "import pandas as pd\n",
    "import numpy as np\n",
    "import matplotlib.pyplot as plt\n",
    "import sklearn as sk\n",
    "from sklearn.model_selection import train_test_split\n",
    "from sklearn.datasets import load_digits"
   ]
  },
  {
   "cell_type": "code",
   "execution_count": 41,
   "metadata": {},
   "outputs": [
    {
     "data": {
      "text/plain": [
       "['DESCR', 'data', 'images', 'target', 'target_names']"
      ]
     },
     "execution_count": 41,
     "metadata": {},
     "output_type": "execute_result"
    }
   ],
   "source": [
    "digits = load_digits()\n",
    "dir(digits)"
   ]
  },
  {
   "cell_type": "code",
   "execution_count": 42,
   "metadata": {},
   "outputs": [
    {
     "data": {
      "text/plain": [
       "array([0, 1, 2, 3, 4, 5, 6, 7, 8, 9])"
      ]
     },
     "execution_count": 42,
     "metadata": {},
     "output_type": "execute_result"
    }
   ],
   "source": [
    "digits['target_names']"
   ]
  },
  {
   "cell_type": "code",
   "execution_count": 43,
   "metadata": {},
   "outputs": [
    {
     "name": "stdout",
     "output_type": "stream",
     "text": [
      "[[ 0.  0.  7. 15. 13.  1.  0.  0.]\n",
      " [ 0.  8. 13.  6. 15.  4.  0.  0.]\n",
      " [ 0.  2.  1. 13. 13.  0.  0.  0.]\n",
      " [ 0.  0.  2. 15. 11.  1.  0.  0.]\n",
      " [ 0.  0.  0.  1. 12. 12.  1.  0.]\n",
      " [ 0.  0.  0.  0.  1. 10.  8.  0.]\n",
      " [ 0.  0.  8.  4.  5. 14.  9.  0.]\n",
      " [ 0.  0.  7. 13. 13.  9.  0.  0.]]\n",
      "[ 0.  0.  7. 15. 13.  1.  0.  0.  0.  8. 13.  6. 15.  4.  0.  0.  0.  2.\n",
      "  1. 13. 13.  0.  0.  0.  0.  0.  2. 15. 11.  1.  0.  0.  0.  0.  0.  1.\n",
      " 12. 12.  1.  0.  0.  0.  0.  0.  1. 10.  8.  0.  0.  0.  8.  4.  5. 14.\n",
      "  9.  0.  0.  0.  7. 13. 13.  9.  0.  0.]\n"
     ]
    }
   ],
   "source": [
    "print(digits['images'][3])\n",
    "print(digits['data'][3])"
   ]
  },
  {
   "cell_type": "code",
   "execution_count": 44,
   "metadata": {},
   "outputs": [
    {
     "data": {
      "text/plain": [
       "Text(0.5, 1.0, 'angka = 4')"
      ]
     },
     "execution_count": 44,
     "metadata": {},
     "output_type": "execute_result"
    },
    {
     "data": {
      "image/png": "[encoded data removed]",
      "text/plain": [
       "<Figure size 432x432 with 1 Axes>"
      ]
     },
     "metadata": {
      "needs_background": "light"
     },
     "output_type": "display_data"
    }
   ],
   "source": [
    "fig = plt.figure('data digit', figsize=(6,6))\n",
    "plt.imshow(digits['images'][4])\n",
    "plt.title('angka = {}'.format(digits['target'][4]))"
   ]
  },
  {
   "cell_type": "code",
   "execution_count": 45,
   "metadata": {},
   "outputs": [
    {
     "name": "stdout",
     "output_type": "stream",
     "text": [
      "1617\n",
      "180\n"
     ]
    }
   ],
   "source": [
    "#train split \n",
    "\n",
    "x_train,x_test,y_train,y_test=train_test_split(\n",
    "            digits['data'], #sudah 2 dimensi\n",
    "            digits['target'],\n",
    "            test_size = .1)\n",
    "\n",
    "print(len(x_train))\n",
    "print(len(x_test))"
   ]
  },
  {
   "cell_type": "code",
   "execution_count": 46,
   "metadata": {},
   "outputs": [],
   "source": [
    "#logistic regression\n",
    "\n",
    "\n",
    "from sklearn.linear_model import LogisticRegression\n",
    "model = LogisticRegression(solver='lbfgs')"
   ]
  },
  {
   "cell_type": "code",
   "execution_count": 47,
   "metadata": {},
   "outputs": [
    {
     "name": "stderr",
     "output_type": "stream",
     "text": [
      "c:\\users\\blazt\\appdata\\local\\programs\\python\\python37\\lib\\site-packages\\sklearn\\linear_model\\logistic.py:460: FutureWarning: Default multi_class will be changed to 'auto' in 0.22. Specify the multi_class option to silence this warning.\n",
      "  \"this warning.\", FutureWarning)\n",
      "c:\\users\\blazt\\appdata\\local\\programs\\python\\python37\\lib\\site-packages\\sklearn\\linear_model\\logistic.py:758: ConvergenceWarning: lbfgs failed to converge. Increase the number of iterations.\n",
      "  \"of iterations.\", ConvergenceWarning)\n",
      "c:\\users\\blazt\\appdata\\local\\programs\\python\\python37\\lib\\site-packages\\sklearn\\linear_model\\logistic.py:758: ConvergenceWarning: lbfgs failed to converge. Increase the number of iterations.\n",
      "  \"of iterations.\", ConvergenceWarning)\n",
      "c:\\users\\blazt\\appdata\\local\\programs\\python\\python37\\lib\\site-packages\\sklearn\\linear_model\\logistic.py:758: ConvergenceWarning: lbfgs failed to converge. Increase the number of iterations.\n",
      "  \"of iterations.\", ConvergenceWarning)\n",
      "c:\\users\\blazt\\appdata\\local\\programs\\python\\python37\\lib\\site-packages\\sklearn\\linear_model\\logistic.py:758: ConvergenceWarning: lbfgs failed to converge. Increase the number of iterations.\n",
      "  \"of iterations.\", ConvergenceWarning)\n",
      "c:\\users\\blazt\\appdata\\local\\programs\\python\\python37\\lib\\site-packages\\sklearn\\linear_model\\logistic.py:758: ConvergenceWarning: lbfgs failed to converge. Increase the number of iterations.\n",
      "  \"of iterations.\", ConvergenceWarning)\n",
      "c:\\users\\blazt\\appdata\\local\\programs\\python\\python37\\lib\\site-packages\\sklearn\\linear_model\\logistic.py:758: ConvergenceWarning: lbfgs failed to converge. Increase the number of iterations.\n",
      "  \"of iterations.\", ConvergenceWarning)\n",
      "c:\\users\\blazt\\appdata\\local\\programs\\python\\python37\\lib\\site-packages\\sklearn\\linear_model\\logistic.py:758: ConvergenceWarning: lbfgs failed to converge. Increase the number of iterations.\n",
      "  \"of iterations.\", ConvergenceWarning)\n",
      "c:\\users\\blazt\\appdata\\local\\programs\\python\\python37\\lib\\site-packages\\sklearn\\linear_model\\logistic.py:758: ConvergenceWarning: lbfgs failed to converge. Increase the number of iterations.\n",
      "  \"of iterations.\", ConvergenceWarning)\n",
      "c:\\users\\blazt\\appdata\\local\\programs\\python\\python37\\lib\\site-packages\\sklearn\\linear_model\\logistic.py:758: ConvergenceWarning: lbfgs failed to converge. Increase the number of iterations.\n",
      "  \"of iterations.\", ConvergenceWarning)\n",
      "c:\\users\\blazt\\appdata\\local\\programs\\python\\python37\\lib\\site-packages\\sklearn\\linear_model\\logistic.py:758: ConvergenceWarning: lbfgs failed to converge. Increase the number of iterations.\n",
      "  \"of iterations.\", ConvergenceWarning)\n"
     ]
    },
    {
     "data": {
      "text/plain": [
       "LogisticRegression(C=1.0, class_weight=None, dual=False, fit_intercept=True,\n",
       "          intercept_scaling=1, max_iter=100, multi_class='warn',\n",
       "          n_jobs=None, penalty='l2', random_state=None, solver='lbfgs',\n",
       "          tol=0.0001, verbose=0, warm_start=False)"
      ]
     },
     "execution_count": 47,
     "metadata": {},
     "output_type": "execute_result"
    }
   ],
   "source": [
    "#training model\n",
    "model.fit(x_train,y_train)"
   ]
  },
  {
   "cell_type": "code",
   "execution_count": 48,
   "metadata": {},
   "outputs": [
    {
     "name": "stdout",
     "output_type": "stream",
     "text": [
      "[[ 0.00000000e+00 -3.06695306e-02 -8.97062981e-03  8.43930896e-02\n",
      "  -1.27568382e-02 -2.97571248e-01 -2.62684783e-01 -3.17027817e-02\n",
      "   3.96483059e-05 -7.11822635e-02  2.82009701e-02  1.95751571e-01\n",
      "   2.18358351e-01  3.05133492e-01  5.02167202e-02 -4.81000152e-02\n",
      "  -8.27038409e-03  1.53280437e-01  2.35432086e-01  1.15212400e-02\n",
      "  -3.38383822e-01  3.24162441e-01  2.63437632e-02 -1.17316486e-02\n",
      "  -4.13773892e-03  6.34984349e-02 -8.60946629e-03 -1.78574968e-01\n",
      "  -6.19369451e-01  4.47726790e-02  7.38547373e-02  2.20020466e-04\n",
      "   0.00000000e+00  2.09828611e-01  1.91706720e-01 -7.97471245e-02\n",
      "  -6.14271733e-01  2.74472407e-02 -1.32668680e-02  0.00000000e+00\n",
      "   9.31014148e-04  3.01191159e-02  2.72867704e-01 -3.80519791e-01\n",
      "  -2.17009278e-01  2.88745172e-02  1.67120207e-01  3.03514608e-04\n",
      "   1.73957912e-03 -8.92471562e-02  3.11679234e-02 -3.70819698e-02\n",
      "   5.67741255e-02 -5.76428909e-02 -1.48510758e-01 -1.03726237e-01\n",
      "   1.19771425e-05 -4.58220562e-02 -2.11013855e-01  1.82943423e-01\n",
      "  -2.29455011e-01 -4.09163926e-02 -1.74809980e-01 -9.17904798e-02]\n",
      " [ 0.00000000e+00 -5.21384061e-02  2.16319929e-01  3.71077983e-02\n",
      "  -5.56829493e-01  4.22591679e-01 -2.09187759e-01 -2.31402020e-01\n",
      "  -3.91538840e-04 -1.57412112e+00 -3.33224612e-01 -3.78422087e-01\n",
      "   4.57020251e-02  6.12262183e-03 -3.59693956e-01 -4.53840909e-02\n",
      "   2.97413535e-01  6.06265805e-01  3.85555317e-02  5.98265125e-01\n",
      "   4.49300364e-01 -2.37780306e-01  1.84528572e-01 -7.29934782e-02\n",
      "  -1.31546213e-01 -2.62052267e-01  1.13423504e-02  1.33249403e-01\n",
      "  -1.37485346e-01  1.98246978e-01 -5.01536188e-01 -1.16984436e-04\n",
      "   0.00000000e+00 -3.31994233e-02 -1.25350944e-03 -5.80722641e-02\n",
      "   2.31522426e-01 -8.71593985e-02 -3.24801101e-01  0.00000000e+00\n",
      "  -1.81332236e-03 -6.38953443e-01 -1.05374482e-03 -1.56192122e-01\n",
      "  -1.53957320e-01 -2.36208233e-01 -1.06062410e-01 -3.20878444e-02\n",
      "  -5.61096325e-02  2.63334779e-01 -1.54214482e-01  3.00601177e-01\n",
      "   7.85116299e-02  6.36446702e-03 -4.35534378e-01  8.42290644e-01\n",
      "  -1.86072077e-02 -3.21537538e-01 -1.67529649e-01 -9.57594400e-02\n",
      "   1.12075491e-01  3.75613521e-02 -5.96415335e-02 -5.61253535e-02]\n",
      " [ 0.00000000e+00  7.11922199e-02 -1.94604399e-01  8.99123069e-02\n",
      "  -9.49367376e-02 -1.65770636e-01 -1.67122607e-01 -7.02453261e-03\n",
      "  -9.14216980e-04  2.17432385e-01  2.59765387e-01 -1.61850269e-01\n",
      "   2.61235018e-01 -5.19432834e-02  2.08010478e-02  5.07229781e-03\n",
      "   1.46433665e-03 -1.24374137e-01  9.44231176e-02 -1.61755432e-01\n",
      "   1.80395099e-01  2.96006837e-02  2.24922203e-01  1.39773317e-03\n",
      "   2.32789312e-04 -2.51308162e-01 -5.56375126e-01 -4.74707578e-01\n",
      "  -3.31260833e-01  1.96332757e-01 -9.95529700e-02 -1.24787384e-05\n",
      "   0.00000000e+00 -3.36400029e-01 -3.74802236e-01 -9.24941683e-02\n",
      "  -1.03575308e-01 -2.72403300e-01 -4.76206391e-01  0.00000000e+00\n",
      "   1.86494031e-04  1.56279102e-01  1.12063137e-01  4.36148133e-01\n",
      "  -3.85695161e-01 -4.13754042e-01 -3.64044335e-01  1.29178330e-02\n",
      "   1.38117161e-02  2.19864176e-01  2.05927853e-02  4.88156273e-01\n",
      "   2.56762189e-01  2.41306820e-01  2.77739816e-01  3.57302792e-02\n",
      "   4.59057453e-03  1.61938090e-01  6.35977489e-02  7.34365142e-02\n",
      "  -1.51518567e-02  2.46719472e-01  3.32417566e-01  9.24278335e-02]\n",
      " [ 0.00000000e+00  7.28765548e-01 -1.06470391e+00  2.89342645e-01\n",
      "   3.91600244e-01 -2.49522374e-01 -3.83703821e-01 -3.90123842e-02\n",
      "  -4.40957225e-02 -1.87715935e-01  2.08738261e-01  1.51696881e-02\n",
      "   1.99792929e-01  6.18855783e-01  8.30454312e-01 -3.06823900e-01\n",
      "  -7.89146053e-04  1.24575949e-01 -7.05968724e-01 -4.44076736e-01\n",
      "   6.26026523e-02 -4.38561630e-01  2.84422952e-01 -1.30190579e-02\n",
      "  -1.16969765e-05 -6.51205869e-01 -3.68314893e-01 -1.06350516e-01\n",
      "   2.28992176e-01 -7.21340276e-01 -1.88848845e+00 -1.69344910e-05\n",
      "   0.00000000e+00 -1.37869868e-01 -4.42241686e-01  2.54270842e-02\n",
      "  -1.48245755e-01 -2.57928992e-03  4.79730996e-01  0.00000000e+00\n",
      "  -9.31470423e-05  1.58821839e-01 -1.89348150e-01 -8.73994953e-01\n",
      "   3.61538929e-01  6.01021746e-01  1.86023132e-01 -1.19398051e-02\n",
      "  -9.03927600e-05 -2.31014194e-01 -1.33369518e-01 -3.82731005e-01\n",
      "   3.60106560e-03 -7.88382608e-02  6.14753015e-01 -3.83772981e-01\n",
      "  -9.96952664e-06  4.10575583e-01  6.74770873e-01 -3.89282515e-01\n",
      "   3.14444853e-01 -1.50042380e-01 -1.20592656e-01 -1.06020219e+00]\n",
      " [ 0.00000000e+00 -1.04767883e-02 -3.31913247e-01 -6.49862790e-01\n",
      "  -2.56033388e-01 -3.69774144e-01 -3.80745299e-01  1.01564096e-01\n",
      "   5.53396871e-06 -1.02254385e-01 -1.91410395e-02 -3.61363633e-01\n",
      "  -4.26818535e-01 -3.52552075e-01 -3.57215970e-01  1.43209045e-01\n",
      "  -1.01489008e-02  1.92467500e-01  4.23932962e-01  2.03313541e-01\n",
      "   5.47220994e-03  2.42765610e-01  2.60343886e-02  8.40590201e-02\n",
      "   7.04869670e-02 -5.82798065e-02  2.70948894e-01  3.35795638e-03\n",
      "  -1.06871020e-01  1.52893973e-02  4.67712382e-01  4.45083837e-04\n",
      "   0.00000000e+00  1.87450746e-01  1.01625852e-01  1.86573098e-02\n",
      "   3.52482193e-01  1.33010345e-01  3.59142524e-01  0.00000000e+00\n",
      "  -5.00411609e-04  6.18285777e-01 -1.49878893e-01  3.77295736e-01\n",
      "   1.05476534e-01  1.03799005e-01  7.19570064e-02 -1.69018637e-04\n",
      "  -1.45557121e-03  3.90582459e-01 -1.75337662e-01  1.31417534e-01\n",
      "   8.90288277e-02 -3.28582132e-01 -5.52759529e-01  4.58132224e-04\n",
      "  -2.82372013e-04 -1.42067475e-01 -1.90171452e-01 -2.62630088e-01\n",
      "  -2.73269704e-01 -2.93810039e-01 -1.09820823e-01  8.34883486e-04]\n",
      " [ 0.00000000e+00 -1.81388018e-01  7.20324382e-01 -3.49706647e-01\n",
      "  -7.58237357e-02  4.23757547e-01  6.19778281e-01 -1.38119049e-01\n",
      "   2.85802266e-02 -5.38430898e-02  1.25534098e-01  2.04668671e-01\n",
      "   4.48572205e-02 -1.33740830e-01 -3.31165932e-01 -7.38910416e-02\n",
      "  -6.54203499e-02 -3.33365848e-01  3.70568243e-01  4.70851669e-02\n",
      "  -5.14276970e-01 -7.61711383e-01 -1.10131762e+00 -2.16188510e-04\n",
      "  -3.20699632e-02  1.14426280e-01  3.71253192e-01 -1.06118809e-01\n",
      "   3.74223499e-01 -1.40558417e-01 -1.00486822e+00  7.46935733e-05\n",
      "   0.00000000e+00 -3.36573534e-01 -1.97542354e-02 -2.38701771e-01\n",
      "  -4.53988184e-01 -1.75938939e-01  2.62661348e-01  0.00000000e+00\n",
      "   2.17285924e-04 -3.99722096e-01 -2.42363195e-01 -2.53460078e-01\n",
      "  -2.22772339e-01  1.26727620e-01 -2.66654572e-02 -9.89110158e-05\n",
      "   6.36507195e-05  2.76248816e-02 -4.53956866e-01  1.05143708e-02\n",
      "   7.20169840e-03 -7.09448106e-02 -6.05084528e-01  5.09070010e-04\n",
      "   3.37961792e-06 -3.34227830e-01  1.25514120e-01  3.28597271e-01\n",
      "  -2.64224617e-02 -1.14846031e-02 -6.25487795e-01 -8.71471098e-02]\n",
      " [ 0.00000000e+00 -4.13171313e-02 -2.10728292e-01 -1.15295723e-01\n",
      "  -1.93371455e-01 -2.78200157e-01 -2.21240882e-01  5.27030475e-04\n",
      "   1.95453854e-05 -4.26063156e-01 -9.09296508e-03 -2.56897596e-01\n",
      "  -3.47860872e-01  1.20810690e-01  2.30095216e-01  5.30358027e-04\n",
      "  -1.10914442e-02 -1.15519603e-01  1.49466630e-01  1.85079311e-01\n",
      "  -5.88547606e-01 -8.97433629e-01 -2.30229656e-01  7.36231929e-04\n",
      "  -5.54901591e-03  4.09928426e-01 -4.57992755e-02  2.48594296e-01\n",
      "  -7.67655755e-02 -1.58902970e-01 -7.50149132e-01  1.99493265e-05\n",
      "   0.00000000e+00  1.34924162e-01  7.60509930e-02  2.61339544e-01\n",
      "  -9.48598079e-02  3.32228127e-02 -3.62161377e-02  0.00000000e+00\n",
      "   9.69822197e-04 -7.11737801e-01  6.33964322e-01 -1.07750277e-01\n",
      "   1.37855767e-01 -1.32772783e-01  5.29567354e-01  1.42989045e-01\n",
      "   2.35480355e-04 -3.55647536e-01  5.06928481e-01  7.49271055e-02\n",
      "  -1.69426569e-01  3.29567345e-01 -3.86623605e-02 -5.13476743e-01\n",
      "   8.90870509e-07 -2.79182054e-02 -4.30694374e-01 -3.40206966e-01\n",
      "  -2.62922043e-01  1.45592400e-01 -1.14365742e-01 -2.71557117e-01]\n",
      " [ 0.00000000e+00 -1.75257882e-01  2.32281205e-01  3.18551875e-01\n",
      "  -9.87637321e-02  3.62542633e-01  2.34308352e-01  2.50796708e-01\n",
      "  -1.72781852e-05 -4.74283038e-02  2.22561267e-01 -1.33439423e-01\n",
      "   8.74643420e-01 -1.72362764e-01 -6.86504051e-03  1.59102704e-01\n",
      "  -8.99861335e-06 -2.98228190e-01 -3.65845726e-01 -4.58837939e-01\n",
      "  -2.00175724e-01  2.81704842e-01  3.20182363e-02  7.17554870e-02\n",
      "  -5.61693498e-06 -5.38904329e-01 -1.43159484e-02 -4.08745109e-01\n",
      "  -1.69779972e-01  5.74301693e-02  1.62317056e-01 -3.30372636e-03\n",
      "   0.00000000e+00  4.50648781e-01 -1.62965311e-01  1.70657622e-01\n",
      "   1.21716098e-01  2.72059091e-02  3.39266394e-01  0.00000000e+00\n",
      "  -5.94857101e-05 -3.78611495e-01  3.14997381e-02 -1.18969062e-01\n",
      "   2.25228155e-01  2.70988941e-01  2.12644142e-01 -5.56996151e-05\n",
      "  -3.57917556e-05 -2.34512636e-01  1.69564504e-01  1.46898884e-01\n",
      "  -7.32143528e-01 -1.09220833e+00 -8.19318653e-02 -8.14538691e-04\n",
      "  -5.73973556e-06 -3.24347422e-01 -3.81080815e-01 -4.11288054e-01\n",
      "  -4.66737172e-02 -7.49144578e-01 -7.73975305e-02 -9.39546623e-03]\n",
      " [ 0.00000000e+00 -2.41491474e-01  1.62277685e-01 -2.63333582e-01\n",
      "  -1.17458739e-02 -1.40802173e-02 -8.07759663e-01 -1.41895601e-01\n",
      "   1.12693598e+00 -4.80392670e-02  1.43394685e-01  1.82297245e-02\n",
      "  -1.72964416e-01  1.36621112e-01  2.26504003e-01 -5.07031515e-01\n",
      "  -3.36196666e-01  1.40255207e-01  1.78499187e-01  5.38542609e-02\n",
      "   2.30514811e-02  1.43013582e-01  9.60278159e-02 -3.30998247e-01\n",
      "  -4.52665201e-01 -1.46044602e-01 -4.30826368e-02  1.72573177e-01\n",
      "  -8.97657290e-02 -3.51238508e-02 -1.93267180e-02 -4.87196743e-03\n",
      "   0.00000000e+00 -4.25083695e-01 -8.92975900e-02  3.05356438e-01\n",
      "  -2.75730329e-02 -4.11537508e-02 -1.37622254e+00  0.00000000e+00\n",
      "  -1.45364392e-03  2.72180355e-01  9.09808164e-02  3.52258003e-02\n",
      "   3.79654586e-02  4.21060634e-02 -4.97930893e-03 -4.21753550e-02\n",
      "  -1.21327797e-02 -1.68371555e-01  1.69978886e-01 -2.36796102e-01\n",
      "  -2.29249201e-01  9.29208019e-02  3.86577651e-02 -3.97017164e-02\n",
      "  -3.92750248e-03  5.41499117e-02 -4.72216752e-01 -2.34233743e-02\n",
      "   6.94237836e-02 -2.10947486e-01 -1.84910987e-01  4.03192409e-02]\n",
      " [ 0.00000000e+00 -1.06141030e+00  2.24243298e-01  1.20917957e-01\n",
      "   2.50659569e-02 -2.31384140e-01 -2.67308992e-01  8.75440084e-02\n",
      "  -1.52324756e-03  1.53498048e-01  7.10243262e-02  2.42101086e-01\n",
      "  -9.28213133e-02 -7.58930996e-02  4.31897706e-01 -4.54045770e-01\n",
      "  -2.25690257e-01  2.35263717e-01  2.69676932e-01  9.82191932e-02\n",
      "   2.08135292e-01  6.22143389e-01 -4.84772545e-02 -9.30246360e-01\n",
      "  -1.12826945e-01 -1.57669444e-01  1.74982166e-01  3.42185819e-01\n",
      "  -2.19105584e-01  3.12989539e-01 -1.11358034e-01 -2.17906635e-02\n",
      "   0.00000000e+00 -6.16392379e-01 -1.46971478e-01  4.87204119e-01\n",
      "  -2.35639843e-01 -2.10687079e-01 -1.26294036e-02  0.00000000e+00\n",
      "  -7.96029947e-05 -6.16839973e-01 -7.24535989e-01 -1.22443038e+00\n",
      "  -6.67131624e-01 -2.98092368e-01 -2.80554855e-01  3.81389793e-03\n",
      "  -8.12762850e-05  1.83001696e-01 -8.86691463e-03 -4.87445400e-02\n",
      "  -1.61069661e-01 -3.06495513e-01 -2.66665985e-01  6.35299878e-01\n",
      "  -8.38473049e-06 -7.51967386e-01 -2.78515896e-01 -9.59978229e-02\n",
      "  -7.04114519e-02  2.83859157e-02 -1.37783357e-02 -4.64043355e-01]]\n",
      "[-10.51908282  -1.92584876  -9.24000266  -0.43444282   0.08070713\n",
      "  -0.48616248  -0.3103269   -0.04027382  -2.69286535  -1.23931365]\n"
     ]
    }
   ],
   "source": [
    "#slope coeff n intercept\n",
    "print(model.coef_)\n",
    "print(model.intercept_)"
   ]
  },
  {
   "cell_type": "code",
   "execution_count": 49,
   "metadata": {},
   "outputs": [
    {
     "name": "stdout",
     "output_type": "stream",
     "text": [
      "[[ 0.  0.  3. ...  5.  0.  0.]\n",
      " [ 0.  0.  1. ...  0.  0.  0.]\n",
      " [ 0.  3. 15. ... 12.  3.  0.]\n",
      " ...\n",
      " [ 0.  0.  9. ... 14.  1.  0.]\n",
      " [ 0.  0.  2. ...  3.  0.  0.]\n",
      " [ 0.  0.  0. ... 13.  4.  0.]]\n",
      "[0 4 2 8 3 5 2 4 6 1 6 3 7 5 5 6 5 8 9 3 6 0 7 5 0 0 5 1 2 9 9 5 1 9 8 9 6\n",
      " 9 8 7 0 1 1 0 1 8 9 5 9 0 7 9 3 6 4 7 2 4 9 2 9 1 6 1 5 3 9 7 4 6 4 5 0 6\n",
      " 3 1 5 1 8 1 2 9 0 2 1 5 7 6 9 4 1 0 7 5 0 8 2 0 1 7 7 6 6 4 8 7 7 9 7 5 4\n",
      " 6 7 0 1 1 1 4 3 3 6 9 7 0 0 7 0 6 3 9 0 8 3 7 2 8 1 8 3 7 1 3 8 0 8 5 2 9\n",
      " 0 0 7 7 6 9 1 1 2 1 5 1 7 7 5 4 3 5 7 9 6 4 0 1 9 1 5 2 9 9 0 1]\n"
     ]
    }
   ],
   "source": [
    "print(x_test)\n",
    "print(model.predict(x_test)) #dari xtest"
   ]
  },
  {
   "cell_type": "code",
   "execution_count": 58,
   "metadata": {},
   "outputs": [
    {
     "data": {
      "text/plain": [
       "0.9925788497217068"
      ]
     },
     "execution_count": 58,
     "metadata": {},
     "output_type": "execute_result"
    }
   ],
   "source": [
    "akurasi =model.score(x_train,y_train)\n",
    "akurasi"
   ]
  },
  {
   "cell_type": "code",
   "execution_count": 59,
   "metadata": {},
   "outputs": [
    {
     "data": {
      "text/plain": [
       "array([0])"
      ]
     },
     "execution_count": 59,
     "metadata": {},
     "output_type": "execute_result"
    }
   ],
   "source": [
    "prediksi = model.predict(x_test[0].reshape(1,-1)) #jadi 2 dimensi\n",
    "prediksi"
   ]
  },
  {
   "cell_type": "code",
   "execution_count": 60,
   "metadata": {},
   "outputs": [
    {
     "data": {
      "text/plain": [
       "array([[ 0.,  0.,  3., 11.,  6.,  0.,  0.,  0.],\n",
       "       [ 0.,  0., 10., 14., 16.,  2.,  0.,  0.],\n",
       "       [ 0.,  3., 15.,  1., 11., 11.,  0.,  0.],\n",
       "       [ 0.,  4., 12.,  0.,  2., 16.,  2.,  0.],\n",
       "       [ 0.,  7., 12.,  0.,  0., 12.,  8.,  0.],\n",
       "       [ 0.,  4., 14.,  0.,  1., 15.,  8.,  0.],\n",
       "       [ 0.,  2., 15., 14., 15., 15.,  1.,  0.],\n",
       "       [ 0.,  0.,  5., 13., 14.,  5.,  0.,  0.]])"
      ]
     },
     "execution_count": 60,
     "metadata": {},
     "output_type": "execute_result"
    }
   ],
   "source": [
    "x_test[0].reshape(8,8)"
   ]
  },
  {
   "cell_type": "code",
   "execution_count": 66,
   "metadata": {},
   "outputs": [
    {
     "data": {
      "text/plain": [
       "Text(0.5, 1.0, 'angka prediksi= [0] akurasi 99.25788497217069 %')"
      ]
     },
     "execution_count": 66,
     "metadata": {},
     "output_type": "execute_result"
    },
    {
     "data": {
      "image/png": "[encoded data removed]",
      "text/plain": [
       "<Figure size 432x432 with 1 Axes>"
      ]
     },
     "metadata": {
      "needs_background": "light"
     },
     "output_type": "display_data"
    }
   ],
   "source": [
    "fig = plt.figure('data digit', figsize=(6,6))\n",
    "plt.imshow(x_test[0].reshape(8,8),cmap='gray')\n",
    "plt.title('angka prediksi= {} akurasi {} %'.format(prediksi,akurasi*100))"
   ]
  },
  {
   "cell_type": "code",
   "execution_count": null,
   "metadata": {},
   "outputs": [],
   "source": [
    "\n"
   ]
  },
  {
   "cell_type": "code",
   "execution_count": null,
   "metadata": {},
   "outputs": [],
   "source": []
  }
 ],
 "metadata": {
  "kernelspec": {
   "display_name": "Python 3",
   "language": "python",
   "name": "python3"
  },
  "language_info": {
   "codemirror_mode": {
    "name": "ipython",
    "version": 3
   },
   "file_extension": ".py",
   "mimetype": "text/x-python",
   "name": "python",
   "nbconvert_exporter": "python",
   "pygments_lexer": "ipython3",
   "version": "3.7.2"
  }
 },
 "nbformat": 4,
 "nbformat_minor": 2
}
