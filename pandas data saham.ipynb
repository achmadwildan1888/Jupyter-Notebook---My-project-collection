{
 "cells": [
  {
   "cell_type": "code",
   "execution_count": 1,
   "metadata": {},
   "outputs": [
    {
     "name": "stdout",
     "output_type": "stream",
     "text": [
      "           Date    Open    High     Low   Close    Adj Close       Volume\n",
      "0    2018-02-26     NaN     NaN     NaN     NaN          NaN          NaN\n",
      "1    2018-02-27  4030.0  4030.0  3960.0  4020.0  3878.106689   81554100.0\n",
      "2    2018-02-28  3970.0  4050.0  3970.0  4000.0  3858.812500   94528200.0\n",
      "3    2018-03-01  4050.0  4090.0  4020.0  4060.0  3916.694824   84215600.0\n",
      "4    2018-03-02  4060.0  4070.0  4030.0  4070.0  3926.341797   61410200.0\n",
      "5    2018-03-05  4050.0  4060.0  4000.0  4020.0  3878.106689   56394900.0\n",
      "6    2018-03-06  4050.0  4060.0  4020.0  4020.0  3878.106689   59010500.0\n",
      "7    2018-03-07  4000.0  4040.0  3980.0  4000.0  3858.812500  100646000.0\n",
      "8    2018-03-08  4050.0  4140.0  4020.0  4140.0  3993.871094  152547000.0\n",
      "9    2018-03-09  4150.0  4160.0  4090.0  4150.0  4003.518066   97354700.0\n",
      "10   2018-03-12  4170.0  4200.0  4130.0  4200.0  4051.753174   87344000.0\n",
      "11   2018-03-13  4160.0  4180.0  4080.0  4090.0  3945.635742   96605900.0\n",
      "12   2018-03-14  4070.0  4090.0  4040.0  4060.0  3916.694824   74296000.0\n",
      "13   2018-03-15  4030.0  4040.0  3930.0  3930.0  3791.283447  133775500.0\n",
      "14   2018-03-16  3930.0  3950.0  3820.0  3820.0  3685.166016  208216200.0\n",
      "15   2018-03-19  3860.0  3900.0  3810.0  3820.0  3685.166016  111808000.0\n",
      "16   2018-03-20  3800.0  3810.0  3640.0  3660.0  3530.813477  254154700.0\n",
      "17   2018-03-21  3660.0  3720.0  3630.0  3710.0  3579.048584  152085900.0\n",
      "18   2018-03-22  3720.0  3810.0  3690.0  3700.0  3569.401611  132850400.0\n",
      "19   2018-03-23  3520.0  3690.0  3520.0  3660.0  3530.813477  104485500.0\n",
      "20   2018-03-26  3600.0  3650.0  3580.0  3590.0  3463.284180  104993600.0\n",
      "21   2018-03-27  3630.0  3650.0  3540.0  3560.0  3434.343262  106157400.0\n",
      "22   2018-03-28  3570.0  3620.0  3540.0  3570.0  3443.990234   83907700.0\n",
      "23   2018-03-29  3580.0  3600.0  3530.0  3600.0  3472.931396  106930200.0\n",
      "24   2018-03-30  3600.0  3600.0  3600.0  3600.0  3472.931396          0.0\n",
      "25   2018-04-02  3640.0  3680.0  3600.0  3670.0  3540.460449   63944000.0\n",
      "26   2018-04-03  3640.0  3670.0  3620.0  3630.0  3501.872314   57234700.0\n",
      "27   2018-04-04  3630.0  3660.0  3570.0  3600.0  3472.931396   80976000.0\n",
      "28   2018-04-05  3650.0  3690.0  3650.0  3680.0  3550.107666  102973700.0\n",
      "29   2018-04-06  3680.0  3690.0  3650.0  3650.0  3521.166504   62905500.0\n",
      "..          ...     ...     ...     ...     ...          ...          ...\n",
      "232  2019-01-16  3940.0  4000.0  3920.0  3990.0  3990.000000  139056700.0\n",
      "233  2019-01-17  3970.0  3990.0  3960.0  3990.0  3990.000000   78766100.0\n",
      "234  2019-01-18  4010.0  4020.0  3970.0  4020.0  4020.000000   76350400.0\n",
      "235  2019-01-21  4040.0  4050.0  4020.0  4030.0  4030.000000   83317600.0\n",
      "236  2019-01-22  4000.0  4010.0  3930.0  4000.0  4000.000000   95420500.0\n",
      "237  2019-01-23  3950.0  3980.0  3920.0  3920.0  3920.000000   72518500.0\n",
      "238  2019-01-24  3900.0  3910.0  3830.0  3860.0  3860.000000  118836500.0\n",
      "239  2019-01-25  3880.0  3930.0  3840.0  3880.0  3880.000000   75844000.0\n",
      "240  2019-01-28  3880.0  3890.0  3730.0  3780.0  3780.000000  168983100.0\n",
      "241  2019-01-29  3780.0  3850.0  3780.0  3840.0  3840.000000  118131200.0\n",
      "242  2019-01-30  3850.0  3890.0  3830.0  3860.0  3860.000000   85903100.0\n",
      "243  2019-01-31  3900.0  3920.0  3870.0  3900.0  3900.000000  110953700.0\n",
      "244  2019-02-01  3910.0  3930.0  3830.0  3870.0  3870.000000   79588900.0\n",
      "245  2019-02-04  3890.0  3890.0  3780.0  3780.0  3780.000000   70070500.0\n",
      "246  2019-02-05  3780.0  3780.0  3780.0  3780.0  3780.000000          0.0\n",
      "247  2019-02-06  3820.0  3870.0  3820.0  3860.0  3860.000000   72180200.0\n",
      "248  2019-02-07  3890.0  3890.0  3830.0  3860.0  3860.000000   39141500.0\n",
      "249  2019-02-08  3810.0  3850.0  3810.0  3850.0  3850.000000   32131700.0\n",
      "250  2019-02-11  3870.0  3940.0  3860.0  3930.0  3930.000000   88628900.0\n",
      "251  2019-02-12  3900.0  3910.0  3800.0  3820.0  3820.000000   92427800.0\n",
      "252  2019-02-13  3840.0  3850.0  3780.0  3790.0  3790.000000  113161100.0\n",
      "253  2019-02-14  3790.0  3810.0  3740.0  3740.0  3740.000000   76939400.0\n",
      "254  2019-02-15  3770.0  3800.0  3730.0  3790.0  3790.000000   67812600.0\n",
      "255  2019-02-18  3830.0  3920.0  3830.0  3900.0  3900.000000   80275800.0\n",
      "256  2019-02-19  3930.0  3940.0  3900.0  3920.0  3920.000000   82962700.0\n",
      "257  2019-02-20  3940.0  3940.0  3830.0  3870.0  3870.000000   87933000.0\n",
      "258  2019-02-21  3870.0  3890.0  3860.0  3870.0  3870.000000   48031100.0\n",
      "259  2019-02-22  3870.0  3870.0  3820.0  3840.0  3840.000000   61392700.0\n",
      "260  2019-02-25  3900.0  3920.0  3850.0  3910.0  3910.000000   53792400.0\n",
      "261  2019-02-26  3920.0  3930.0  3880.0  3930.0  3930.000000   49657300.0\n",
      "\n",
      "[262 rows x 7 columns]\n"
     ]
    }
   ],
   "source": [
    "import pandas as pd\n",
    "\n",
    "dftelkom = pd.read_csv('TLKM.JK.csv')\n",
    "print(dftelkom)"
   ]
  },
  {
   "cell_type": "code",
   "execution_count": 5,
   "metadata": {},
   "outputs": [
    {
     "name": "stdout",
     "output_type": "stream",
     "text": [
      "['2018-02-26']\n"
     ]
    }
   ],
   "source": [
    "print([dftelkom['Date'][0]])"
   ]
  },
  {
   "cell_type": "code",
   "execution_count": 8,
   "metadata": {},
   "outputs": [
    {
     "name": "stdout",
     "output_type": "stream",
     "text": [
      "<class 'pandas._libs.tslibs.timestamps.Timestamp'>\n"
     ]
    }
   ],
   "source": [
    "\n",
    "dftelkom = pd.read_csv('TLKM.JK.csv',parse_dates=['Date']) #merubah kolom date jadi type data tanggal\n",
    "print(type(dftelkom['Date'][0]))"
   ]
  },
  {
   "cell_type": "code",
   "execution_count": 52,
   "metadata": {},
   "outputs": [
    {
     "name": "stdout",
     "output_type": "stream",
     "text": [
      "              Open    High     Low   Close    Adj Close       Volume\n",
      "Date                                                                \n",
      "2018-02-26     NaN     NaN     NaN     NaN          NaN          NaN\n",
      "2018-02-27  4030.0  4030.0  3960.0  4020.0  3878.106689   81554100.0\n",
      "2018-02-28  3970.0  4050.0  3970.0  4000.0  3858.812500   94528200.0\n",
      "2018-03-01  4050.0  4090.0  4020.0  4060.0  3916.694824   84215600.0\n",
      "2018-03-02  4060.0  4070.0  4030.0  4070.0  3926.341797   61410200.0\n",
      "2018-03-05  4050.0  4060.0  4000.0  4020.0  3878.106689   56394900.0\n",
      "2018-03-06  4050.0  4060.0  4020.0  4020.0  3878.106689   59010500.0\n",
      "2018-03-07  4000.0  4040.0  3980.0  4000.0  3858.812500  100646000.0\n",
      "2018-03-08  4050.0  4140.0  4020.0  4140.0  3993.871094  152547000.0\n",
      "2018-03-09  4150.0  4160.0  4090.0  4150.0  4003.518066   97354700.0\n",
      "2018-03-12  4170.0  4200.0  4130.0  4200.0  4051.753174   87344000.0\n",
      "2018-03-13  4160.0  4180.0  4080.0  4090.0  3945.635742   96605900.0\n",
      "2018-03-14  4070.0  4090.0  4040.0  4060.0  3916.694824   74296000.0\n",
      "2018-03-15  4030.0  4040.0  3930.0  3930.0  3791.283447  133775500.0\n",
      "2018-03-16  3930.0  3950.0  3820.0  3820.0  3685.166016  208216200.0\n",
      "2018-03-19  3860.0  3900.0  3810.0  3820.0  3685.166016  111808000.0\n",
      "2018-03-20  3800.0  3810.0  3640.0  3660.0  3530.813477  254154700.0\n",
      "2018-03-21  3660.0  3720.0  3630.0  3710.0  3579.048584  152085900.0\n",
      "2018-03-22  3720.0  3810.0  3690.0  3700.0  3569.401611  132850400.0\n",
      "2018-03-23  3520.0  3690.0  3520.0  3660.0  3530.813477  104485500.0\n",
      "2018-03-26  3600.0  3650.0  3580.0  3590.0  3463.284180  104993600.0\n",
      "2018-03-27  3630.0  3650.0  3540.0  3560.0  3434.343262  106157400.0\n",
      "2018-03-28  3570.0  3620.0  3540.0  3570.0  3443.990234   83907700.0\n",
      "2018-03-29  3580.0  3600.0  3530.0  3600.0  3472.931396  106930200.0\n",
      "2018-03-30  3600.0  3600.0  3600.0  3600.0  3472.931396          0.0\n",
      "2018-04-02  3640.0  3680.0  3600.0  3670.0  3540.460449   63944000.0\n",
      "2018-04-03  3640.0  3670.0  3620.0  3630.0  3501.872314   57234700.0\n",
      "2018-04-04  3630.0  3660.0  3570.0  3600.0  3472.931396   80976000.0\n",
      "2018-04-05  3650.0  3690.0  3650.0  3680.0  3550.107666  102973700.0\n",
      "2018-04-06  3680.0  3690.0  3650.0  3650.0  3521.166504   62905500.0\n",
      "...            ...     ...     ...     ...          ...          ...\n",
      "2019-01-16  3940.0  4000.0  3920.0  3990.0  3990.000000  139056700.0\n",
      "2019-01-17  3970.0  3990.0  3960.0  3990.0  3990.000000   78766100.0\n",
      "2019-01-18  4010.0  4020.0  3970.0  4020.0  4020.000000   76350400.0\n",
      "2019-01-21  4040.0  4050.0  4020.0  4030.0  4030.000000   83317600.0\n",
      "2019-01-22  4000.0  4010.0  3930.0  4000.0  4000.000000   95420500.0\n",
      "2019-01-23  3950.0  3980.0  3920.0  3920.0  3920.000000   72518500.0\n",
      "2019-01-24  3900.0  3910.0  3830.0  3860.0  3860.000000  118836500.0\n",
      "2019-01-25  3880.0  3930.0  3840.0  3880.0  3880.000000   75844000.0\n",
      "2019-01-28  3880.0  3890.0  3730.0  3780.0  3780.000000  168983100.0\n",
      "2019-01-29  3780.0  3850.0  3780.0  3840.0  3840.000000  118131200.0\n",
      "2019-01-30  3850.0  3890.0  3830.0  3860.0  3860.000000   85903100.0\n",
      "2019-01-31  3900.0  3920.0  3870.0  3900.0  3900.000000  110953700.0\n",
      "2019-02-01  3910.0  3930.0  3830.0  3870.0  3870.000000   79588900.0\n",
      "2019-02-04  3890.0  3890.0  3780.0  3780.0  3780.000000   70070500.0\n",
      "2019-02-05  3780.0  3780.0  3780.0  3780.0  3780.000000          0.0\n",
      "2019-02-06  3820.0  3870.0  3820.0  3860.0  3860.000000   72180200.0\n",
      "2019-02-07  3890.0  3890.0  3830.0  3860.0  3860.000000   39141500.0\n",
      "2019-02-08  3810.0  3850.0  3810.0  3850.0  3850.000000   32131700.0\n",
      "2019-02-11  3870.0  3940.0  3860.0  3930.0  3930.000000   88628900.0\n",
      "2019-02-12  3900.0  3910.0  3800.0  3820.0  3820.000000   92427800.0\n",
      "2019-02-13  3840.0  3850.0  3780.0  3790.0  3790.000000  113161100.0\n",
      "2019-02-14  3790.0  3810.0  3740.0  3740.0  3740.000000   76939400.0\n",
      "2019-02-15  3770.0  3800.0  3730.0  3790.0  3790.000000   67812600.0\n",
      "2019-02-18  3830.0  3920.0  3830.0  3900.0  3900.000000   80275800.0\n",
      "2019-02-19  3930.0  3940.0  3900.0  3920.0  3920.000000   82962700.0\n",
      "2019-02-20  3940.0  3940.0  3830.0  3870.0  3870.000000   87933000.0\n",
      "2019-02-21  3870.0  3890.0  3860.0  3870.0  3870.000000   48031100.0\n",
      "2019-02-22  3870.0  3870.0  3820.0  3840.0  3840.000000   61392700.0\n",
      "2019-02-25  3900.0  3920.0  3850.0  3910.0  3910.000000   53792400.0\n",
      "2019-02-26  3920.0  3930.0  3880.0  3930.0  3930.000000   49657300.0\n",
      "\n",
      "[262 rows x 6 columns]\n"
     ]
    }
   ],
   "source": [
    "\n",
    "dftelkom = pd.read_csv(\n",
    "    'TLKM.JK.csv',\n",
    "    parse_dates=['Date'], #merubah kolom date jadi type data tanggal , jika tidak diubah menjadi date tdk bisa dipanggil\n",
    "    index_col='Date') \n",
    "\n",
    "print(dftelkom)"
   ]
  },
  {
   "cell_type": "code",
   "execution_count": 53,
   "metadata": {},
   "outputs": [
    {
     "name": "stdout",
     "output_type": "stream",
     "text": [
      "              Open    High     Low   Close  Adj Close      Volume\n",
      "Date                                                             \n",
      "2019-02-08  3810.0  3850.0  3810.0  3850.0     3850.0  32131700.0\n",
      "2019-02-11  3870.0  3940.0  3860.0  3930.0     3930.0  88628900.0\n",
      "2019-02-12  3900.0  3910.0  3800.0  3820.0     3820.0  92427800.0\n"
     ]
    }
   ],
   "source": [
    "print(dftelkom['2019-02-08' : '2019-02-12'])"
   ]
  },
  {
   "cell_type": "code",
   "execution_count": 65,
   "metadata": {},
   "outputs": [
    {
     "name": "stdout",
     "output_type": "stream",
     "text": [
      "              Open    High     Low   Close  Adj Close      Volume\n",
      "Date                                                             \n",
      "2019-02-08  3810.0  3850.0  3810.0  3850.0     3850.0  32131700.0\n"
     ]
    }
   ],
   "source": [
    "dftelkom = pd.read_csv(\n",
    "    'TLKM.JK.csv',\n",
    "    parse_dates=['Date'], #merubah kolom date jadi type data tanggal , jika tidak diubah menjadi date tdk bisa dipanggil\n",
    "    index_col='Date')\n",
    "print(dftelkom['2019-02-08' : '2019-02-08'])"
   ]
  },
  {
   "cell_type": "code",
   "execution_count": 66,
   "metadata": {},
   "outputs": [
    {
     "name": "stdout",
     "output_type": "stream",
     "text": [
      "Date\n",
      "2018-11-01    3880.0\n",
      "2018-11-02    3940.0\n",
      "2018-11-05    3890.0\n",
      "2018-11-06    3890.0\n",
      "2018-11-07    3950.0\n",
      "2018-11-08    4000.0\n",
      "2018-11-09    3920.0\n",
      "2018-11-12    3860.0\n",
      "2018-11-13    3830.0\n",
      "2018-11-14    3750.0\n",
      "2018-11-15    3910.0\n",
      "2018-11-16    4050.0\n",
      "2018-11-19    3950.0\n",
      "2018-11-20    3950.0\n",
      "2018-11-21    3960.0\n",
      "2018-11-22    3980.0\n",
      "2018-11-23    3990.0\n",
      "2018-11-26    3990.0\n",
      "2018-11-27    3880.0\n",
      "2018-11-28    3720.0\n",
      "2018-11-29    3740.0\n",
      "2018-11-30    3680.0\n",
      "Name: Close, dtype: float64\n",
      "3895.909090909091\n",
      "4050.0\n"
     ]
    }
   ],
   "source": [
    "print(dftelkom['2018-11']['Close'])\n",
    "print(dftelkom['2018-11']['Close'].mean())\n",
    "print(dftelkom['2018-11']['Close'].max())\n"
   ]
  },
  {
   "cell_type": "code",
   "execution_count": 57,
   "metadata": {},
   "outputs": [
    {
     "name": "stdout",
     "output_type": "stream",
     "text": [
      "Date\n",
      "2018-02-28    4010.000000\n",
      "2018-03-31    3865.000000\n",
      "2018-04-30    3746.190476\n",
      "2018-05-31    3607.391304\n",
      "2018-06-30    3657.142857\n",
      "2018-07-31    3919.090909\n",
      "2018-08-31    3453.478261\n",
      "2018-09-30    3485.000000\n",
      "2018-10-31    3666.086957\n",
      "2018-11-30    3895.909091\n",
      "2018-12-31    3729.523810\n",
      "2019-01-31    3858.260870\n",
      "2019-02-28    3850.555556\n",
      "Freq: M, Name: Close, dtype: float64\n",
      "Date\n",
      "2018-02-28    4020.0\n",
      "2018-03-31    4200.0\n",
      "2018-04-30    3870.0\n",
      "2018-05-31    3870.0\n",
      "2018-06-30    3830.0\n",
      "2018-07-31    4100.0\n",
      "2018-08-31    3650.0\n",
      "2018-09-30    3640.0\n",
      "2018-10-31    3900.0\n",
      "2018-11-30    4050.0\n",
      "2018-12-31    3810.0\n",
      "2019-01-31    4030.0\n",
      "2019-02-28    3930.0\n",
      "Freq: M, Name: Close, dtype: float64\n"
     ]
    }
   ],
   "source": [
    "#rata2 closing tiap weekend\n",
    "\n",
    "print(dftelkom['Close'].resample('M').mean()) #M: month end\n",
    "\n",
    "\n",
    "print(dftelkom['Close'].resample('M').max())"
   ]
  },
  {
   "cell_type": "code",
   "execution_count": 58,
   "metadata": {},
   "outputs": [
    {
     "name": "stdout",
     "output_type": "stream",
     "text": [
      "Date\n",
      "2018-03-04    4037.5\n",
      "2018-03-11    4066.0\n",
      "2018-03-18    4020.0\n",
      "2018-03-25    3710.0\n",
      "2018-04-01    3584.0\n",
      "2018-04-08    3646.0\n",
      "2018-04-15    3782.0\n",
      "2018-04-22    3726.0\n",
      "2018-04-29    3814.0\n",
      "2018-05-06    3800.0\n",
      "2018-05-13    3690.0\n",
      "2018-05-20    3474.0\n",
      "2018-05-27    3496.0\n",
      "2018-06-03    3604.0\n",
      "2018-06-10    3728.0\n",
      "2018-06-17    3610.0\n",
      "2018-06-24    3624.0\n",
      "2018-07-01    3694.0\n",
      "2018-07-08    3780.0\n",
      "2018-07-15    4038.0\n",
      "2018-07-22    3958.0\n",
      "2018-07-29    3972.0\n",
      "2018-08-05    3598.0\n",
      "2018-08-12    3554.0\n",
      "2018-08-19    3370.0\n",
      "2018-08-26    3336.0\n",
      "2018-09-02    3524.0\n",
      "2018-09-09    3386.0\n",
      "2018-09-16    3424.0\n",
      "2018-09-23    3558.0\n",
      "2018-09-30    3572.0\n",
      "2018-10-07    3604.0\n",
      "2018-10-14    3592.0\n",
      "2018-10-21    3766.0\n",
      "2018-10-28    3640.0\n",
      "2018-11-04    3826.0\n",
      "2018-11-11    3930.0\n",
      "2018-11-18    3880.0\n",
      "2018-11-25    3966.0\n",
      "2018-12-02    3802.0\n",
      "2018-12-09    3726.0\n",
      "2018-12-16    3686.0\n",
      "2018-12-23    3752.0\n",
      "2018-12-30    3750.0\n",
      "2019-01-06    3736.0\n",
      "2019-01-13    3792.0\n",
      "2019-01-20    3956.0\n",
      "2019-01-27    3938.0\n",
      "2019-02-03    3850.0\n",
      "2019-02-10    3826.0\n",
      "2019-02-17    3814.0\n",
      "2019-02-24    3880.0\n",
      "2019-03-03    3920.0\n",
      "Freq: W-SUN, Name: Close, dtype: float64\n",
      "Date\n",
      "2018-03-04    4070.0\n",
      "2018-03-11    4150.0\n",
      "2018-03-18    4200.0\n",
      "2018-03-25    3820.0\n",
      "2018-04-01    3600.0\n",
      "2018-04-08    3680.0\n",
      "2018-04-15    3870.0\n",
      "2018-04-22    3770.0\n",
      "2018-04-29    3830.0\n",
      "2018-05-06    3870.0\n",
      "2018-05-13    3800.0\n",
      "2018-05-20    3540.0\n",
      "2018-05-27    3560.0\n",
      "2018-06-03    3690.0\n",
      "2018-06-10    3830.0\n",
      "2018-06-17    3610.0\n",
      "2018-06-24    3710.0\n",
      "2018-07-01    3750.0\n",
      "2018-07-08    3860.0\n",
      "2018-07-15    4100.0\n",
      "2018-07-22    4010.0\n",
      "2018-07-29    4060.0\n",
      "2018-08-05    3910.0\n",
      "2018-08-12    3650.0\n",
      "2018-08-19    3430.0\n",
      "2018-08-26    3390.0\n",
      "2018-09-02    3580.0\n",
      "2018-09-09    3490.0\n",
      "2018-09-16    3590.0\n",
      "2018-09-23    3600.0\n",
      "2018-09-30    3640.0\n",
      "2018-10-07    3670.0\n",
      "2018-10-14    3680.0\n",
      "2018-10-21    3900.0\n",
      "2018-10-28    3800.0\n",
      "2018-11-04    3940.0\n",
      "2018-11-11    4000.0\n",
      "2018-11-18    4050.0\n",
      "2018-11-25    3990.0\n",
      "2018-12-02    3990.0\n",
      "2018-12-09    3780.0\n",
      "2018-12-16    3750.0\n",
      "2018-12-23    3810.0\n",
      "2018-12-30    3760.0\n",
      "2019-01-06    3750.0\n",
      "2019-01-13    3860.0\n",
      "2019-01-20    4020.0\n",
      "2019-01-27    4030.0\n",
      "2019-02-03    3900.0\n",
      "2019-02-10    3860.0\n",
      "2019-02-17    3930.0\n",
      "2019-02-24    3920.0\n",
      "2019-03-03    3930.0\n",
      "Freq: W-SUN, Name: Close, dtype: float64\n"
     ]
    }
   ],
   "source": [
    "print(dftelkom['Close'].resample('W').mean()) #W: week end\n",
    "print(dftelkom['Close'].resample('W').max())"
   ]
  },
  {
   "cell_type": "code",
   "execution_count": 37,
   "metadata": {},
   "outputs": [
    {
     "name": "stdout",
     "output_type": "stream",
     "text": [
      "Date\n",
      "2018-03-31    3877.083333\n",
      "2018-06-30    3668.307692\n",
      "2018-09-30    3620.769231\n",
      "2018-12-31    3762.878788\n",
      "2019-03-31    3854.878049\n",
      "Freq: Q-DEC, Name: Close, dtype: float64\n"
     ]
    }
   ],
   "source": [
    "print(dftelkom['Close'].resample('Q').mean()) #Q:Quartile "
   ]
  },
  {
   "cell_type": "code",
   "execution_count": 67,
   "metadata": {},
   "outputs": [
    {
     "name": "stdout",
     "output_type": "stream",
     "text": [
      "Date\n",
      "2018-02-26       NaN\n",
      "2018-02-27    4020.0\n",
      "2018-02-28    4000.0\n",
      "2018-03-01    4060.0\n",
      "2018-03-02    4070.0\n",
      "2018-03-03       NaN\n",
      "2018-03-04       NaN\n",
      "2018-03-05    4020.0\n",
      "2018-03-06    4020.0\n",
      "2018-03-07    4000.0\n",
      "2018-03-08    4140.0\n",
      "2018-03-09    4150.0\n",
      "2018-03-10       NaN\n",
      "2018-03-11       NaN\n",
      "2018-03-12    4200.0\n",
      "2018-03-13    4090.0\n",
      "2018-03-14    4060.0\n",
      "2018-03-15    3930.0\n",
      "2018-03-16    3820.0\n",
      "2018-03-17       NaN\n",
      "2018-03-18       NaN\n",
      "2018-03-19    3820.0\n",
      "2018-03-20    3660.0\n",
      "2018-03-21    3710.0\n",
      "2018-03-22    3700.0\n",
      "2018-03-23    3660.0\n",
      "2018-03-24       NaN\n",
      "2018-03-25       NaN\n",
      "2018-03-26    3590.0\n",
      "2018-03-27    3560.0\n",
      "               ...  \n",
      "2019-01-28    3780.0\n",
      "2019-01-29    3840.0\n",
      "2019-01-30    3860.0\n",
      "2019-01-31    3900.0\n",
      "2019-02-01    3870.0\n",
      "2019-02-02       NaN\n",
      "2019-02-03       NaN\n",
      "2019-02-04    3780.0\n",
      "2019-02-05    3780.0\n",
      "2019-02-06    3860.0\n",
      "2019-02-07    3860.0\n",
      "2019-02-08    3850.0\n",
      "2019-02-09       NaN\n",
      "2019-02-10       NaN\n",
      "2019-02-11    3930.0\n",
      "2019-02-12    3820.0\n",
      "2019-02-13    3790.0\n",
      "2019-02-14    3740.0\n",
      "2019-02-15    3790.0\n",
      "2019-02-16       NaN\n",
      "2019-02-17       NaN\n",
      "2019-02-18    3900.0\n",
      "2019-02-19    3920.0\n",
      "2019-02-20    3870.0\n",
      "2019-02-21    3870.0\n",
      "2019-02-22    3840.0\n",
      "2019-02-23       NaN\n",
      "2019-02-24       NaN\n",
      "2019-02-25    3910.0\n",
      "2019-02-26    3930.0\n",
      "Freq: D, Name: Close, Length: 366, dtype: float64\n"
     ]
    }
   ],
   "source": [
    "dftelkom = pd.read_csv(\n",
    "    'TLKM.JK.csv',\n",
    "    parse_dates=['Date'], #merubah kolom date jadi type data tanggal , jika tidak diubah menjadi date tdk bisa dipanggil\n",
    "    index_col='Date')\n",
    "#D : semua hari\n",
    "print(dftelkom['Close'].resample('D').max())\n",
    "\n"
   ]
  },
  {
   "cell_type": "code",
   "execution_count": 77,
   "metadata": {},
   "outputs": [
    {
     "data": {
      "text/plain": [
       "Date\n",
       "2018-03-04    4070.0\n",
       "2018-03-11    4150.0\n",
       "2018-03-18    4200.0\n",
       "2018-03-25    3820.0\n",
       "2018-04-01    3600.0\n",
       "2018-04-08    3680.0\n",
       "2018-04-15    3870.0\n",
       "2018-04-22    3770.0\n",
       "2018-04-29    3830.0\n",
       "2018-05-06    3870.0\n",
       "2018-05-13    3800.0\n",
       "2018-05-20    3540.0\n",
       "2018-05-27    3560.0\n",
       "2018-06-03    3690.0\n",
       "2018-06-10    3830.0\n",
       "2018-06-17    3610.0\n",
       "2018-06-24    3710.0\n",
       "2018-07-01    3750.0\n",
       "2018-07-08    3860.0\n",
       "2018-07-15    4100.0\n",
       "2018-07-22    4010.0\n",
       "2018-07-29    4060.0\n",
       "2018-08-05    3910.0\n",
       "2018-08-12    3650.0\n",
       "2018-08-19    3430.0\n",
       "2018-08-26    3390.0\n",
       "2018-09-02    3580.0\n",
       "2018-09-09    3490.0\n",
       "2018-09-16    3590.0\n",
       "2018-09-23    3600.0\n",
       "2018-09-30    3640.0\n",
       "2018-10-07    3670.0\n",
       "2018-10-14    3680.0\n",
       "2018-10-21    3900.0\n",
       "2018-10-28    3800.0\n",
       "2018-11-04    3940.0\n",
       "2018-11-11    4000.0\n",
       "2018-11-18    4050.0\n",
       "2018-11-25    3990.0\n",
       "2018-12-02    3990.0\n",
       "2018-12-09    3780.0\n",
       "2018-12-16    3750.0\n",
       "2018-12-23    3810.0\n",
       "2018-12-30    3760.0\n",
       "2019-01-06    3750.0\n",
       "2019-01-13    3860.0\n",
       "2019-01-20    4020.0\n",
       "2019-01-27    4030.0\n",
       "2019-02-03    3900.0\n",
       "2019-02-10    3860.0\n",
       "2019-02-17    3930.0\n",
       "2019-02-24    3920.0\n",
       "2019-03-03    3930.0\n",
       "Freq: W-SUN, Name: Close, dtype: float64"
      ]
     },
     "execution_count": 77,
     "metadata": {},
     "output_type": "execute_result"
    }
   ],
   "source": [
    "dftelkom = pd.read_csv(\n",
    "    'TLKM.JK.csv',\n",
    "    parse_dates=['Date'], #merubah kolom date jadi type data tanggal , jika tidak diubah menjadi date tdk bisa dipanggil\n",
    "    index_col='Date')\n",
    "\n",
    "#mengisi kolom NA dgn dat sebelumnya\n",
    "dftelkom = dftelkom ['Close'].resample('W').max().fillna(\n",
    "    method='ffill'\n",
    ")\n",
    "dftelkom"
   ]
  },
  {
   "cell_type": "code",
   "execution_count": 76,
   "metadata": {},
   "outputs": [
    {
     "data": {
      "image/png": "[encoded data removed]",
      "text/plain": [
       "<Figure size 432x288 with 1 Axes>"
      ]
     },
     "metadata": {
      "needs_background": "light"
     },
     "output_type": "display_data"
    }
   ],
   "source": [
    "import matplotlib.pyplot as plt\n",
    "\n",
    "plt.plot(dftelkom,'g--')\n",
    "\n",
    "plt.plot(dftelkom,'ro')\n",
    "plt.grid(True)\n",
    "plt.xlabel('Tanggal')\n",
    "plt.ylabel('Close')\n",
    "plt.title('PT telekomunikasi indonesia tbk')\n",
    "plt.show()"
   ]
  },
  {
   "cell_type": "code",
   "execution_count": null,
   "metadata": {},
   "outputs": [],
   "source": []
  },
  {
   "cell_type": "code",
   "execution_count": null,
   "metadata": {},
   "outputs": [],
   "source": []
  }
 ],
 "metadata": {
  "kernelspec": {
   "display_name": "Python 3",
   "language": "python",
   "name": "python3"
  },
  "language_info": {
   "codemirror_mode": {
    "name": "ipython",
    "version": 3
   },
   "file_extension": ".py",
   "mimetype": "text/x-python",
   "name": "python",
   "nbconvert_exporter": "python",
   "pygments_lexer": "ipython3",
   "version": "3.7.2"
  }
 },
 "nbformat": 4,
 "nbformat_minor": 2
}
