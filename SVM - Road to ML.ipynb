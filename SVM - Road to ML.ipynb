{
 "cells": [
  {
   "cell_type": "code",
   "execution_count": 99,
   "metadata": {},
   "outputs": [],
   "source": [
    "%matplotlib inline\n",
    "import pandas as pd\n",
    "import numpy as np\n",
    "from sklearn.datasets import load_iris\n",
    "import matplotlib.pyplot as plt\n",
    "\n",
    "iris = load_iris()\n",
    "dfiris = pd.DataFrame(iris['data'],\n",
    "                     columns = iris['feature_names'])"
   ]
  },
  {
   "cell_type": "markdown",
   "metadata": {},
   "source": [
    "bisa mengelompokan misal tinggi bandan ( mana yg tinggi atau tidak) berat (mana yang berat atau kurang) lalu bisa dipisah menurut golongan"
   ]
  },
  {
   "cell_type": "code",
   "execution_count": 100,
   "metadata": {},
   "outputs": [
    {
     "data": {
      "text/plain": [
       "['DESCR', 'data', 'feature_names', 'filename', 'target', 'target_names']"
      ]
     },
     "execution_count": 100,
     "metadata": {},
     "output_type": "execute_result"
    }
   ],
   "source": [
    "dir(iris)"
   ]
  },
  {
   "cell_type": "code",
   "execution_count": 101,
   "metadata": {},
   "outputs": [
    {
     "data": {
      "text/html": [
       "<div>\n",
       "<style scoped>\n",
       "    .dataframe tbody tr th:only-of-type {\n",
       "        vertical-align: middle;\n",
       "    }\n",
       "\n",
       "    .dataframe tbody tr th {\n",
       "        vertical-align: top;\n",
       "    }\n",
       "\n",
       "    .dataframe thead th {\n",
       "        text-align: right;\n",
       "    }\n",
       "</style>\n",
       "<table border=\"1\" class=\"dataframe\">\n",
       "  <thead>\n",
       "    <tr style=\"text-align: right;\">\n",
       "      <th></th>\n",
       "      <th>sepal length (cm)</th>\n",
       "      <th>sepal width (cm)</th>\n",
       "      <th>petal length (cm)</th>\n",
       "      <th>petal width (cm)</th>\n",
       "      <th>target</th>\n",
       "      <th>jenis</th>\n",
       "    </tr>\n",
       "  </thead>\n",
       "  <tbody>\n",
       "    <tr>\n",
       "      <th>0</th>\n",
       "      <td>5.1</td>\n",
       "      <td>3.5</td>\n",
       "      <td>1.4</td>\n",
       "      <td>0.2</td>\n",
       "      <td>0</td>\n",
       "      <td>setosa</td>\n",
       "    </tr>\n",
       "    <tr>\n",
       "      <th>1</th>\n",
       "      <td>4.9</td>\n",
       "      <td>3.0</td>\n",
       "      <td>1.4</td>\n",
       "      <td>0.2</td>\n",
       "      <td>0</td>\n",
       "      <td>setosa</td>\n",
       "    </tr>\n",
       "    <tr>\n",
       "      <th>2</th>\n",
       "      <td>4.7</td>\n",
       "      <td>3.2</td>\n",
       "      <td>1.3</td>\n",
       "      <td>0.2</td>\n",
       "      <td>0</td>\n",
       "      <td>setosa</td>\n",
       "    </tr>\n",
       "    <tr>\n",
       "      <th>3</th>\n",
       "      <td>4.6</td>\n",
       "      <td>3.1</td>\n",
       "      <td>1.5</td>\n",
       "      <td>0.2</td>\n",
       "      <td>0</td>\n",
       "      <td>setosa</td>\n",
       "    </tr>\n",
       "    <tr>\n",
       "      <th>4</th>\n",
       "      <td>5.0</td>\n",
       "      <td>3.6</td>\n",
       "      <td>1.4</td>\n",
       "      <td>0.2</td>\n",
       "      <td>0</td>\n",
       "      <td>setosa</td>\n",
       "    </tr>\n",
       "  </tbody>\n",
       "</table>\n",
       "</div>"
      ],
      "text/plain": [
       "   sepal length (cm)  sepal width (cm)  petal length (cm)  petal width (cm)  \\\n",
       "0                5.1               3.5                1.4               0.2   \n",
       "1                4.9               3.0                1.4               0.2   \n",
       "2                4.7               3.2                1.3               0.2   \n",
       "3                4.6               3.1                1.5               0.2   \n",
       "4                5.0               3.6                1.4               0.2   \n",
       "\n",
       "   target   jenis  \n",
       "0       0  setosa  \n",
       "1       0  setosa  \n",
       "2       0  setosa  \n",
       "3       0  setosa  \n",
       "4       0  setosa  "
      ]
     },
     "execution_count": 101,
     "metadata": {},
     "output_type": "execute_result"
    }
   ],
   "source": [
    "dfiris['target'] = iris['target']\n",
    "dfiris['jenis'] = dfiris['target'].apply(\n",
    "        lambda x : iris['target_names'][x])\n",
    "dfiris.head()"
   ]
  },
  {
   "cell_type": "code",
   "execution_count": 102,
   "metadata": {},
   "outputs": [],
   "source": [
    "#seperate data\n",
    "dfsetosa = dfiris[dfiris['target'] == 0] \n",
    "dfversicolor = dfiris[dfiris['target'] == 1] \n",
    "dfvirginica = dfiris[dfiris['target'] == 2] "
   ]
  },
  {
   "cell_type": "code",
   "execution_count": 103,
   "metadata": {},
   "outputs": [
    {
     "data": {
      "image/png": "[encoded data removed]",
      "text/plain": [
       "<Figure size 1008x504 with 2 Axes>"
      ]
     },
     "metadata": {
      "needs_background": "light"
     },
     "output_type": "display_data"
    }
   ],
   "source": [
    "#plt.figure(figsize=(10,7))\n",
    "#sepal length v sepal width \n",
    "fig = plt.figure('dfiris',figsize=(14,7))\n",
    "plt.subplot(121)\n",
    "plt.scatter(\n",
    "        dfsetosa['sepal length (cm)'],\n",
    "        dfsetosa['sepal width (cm)'],\n",
    "        color = 'r',\n",
    "        marker = 'o')  \n",
    "plt.scatter(\n",
    "        dfversicolor['sepal length (cm)'],\n",
    "       dfversicolor['sepal width (cm)'],\n",
    "        color = 'y',\n",
    "        marker = 'o')  \n",
    "plt.scatter(\n",
    "        dfvirginica['sepal length (cm)'],\n",
    "        dfvirginica['sepal width (cm)'],\n",
    "        color = 'b',\n",
    "        marker = 'o')  \n",
    "\n",
    "plt.title('sepal length (cm) vs sepal width(cm)')\n",
    "plt.xlabel('sepal length (cm)')\n",
    "plt.ylabel('sepal width(cm)')\n",
    "plt.legend(['0 setosa', '1 versicolor','2 virginica'])\n",
    "plt.grid(True)\n",
    "####################\n",
    "plt.subplot(122)\n",
    "plt.scatter(\n",
    "        dfsetosa['petal length (cm)'],\n",
    "        dfsetosa['petal width (cm)'],\n",
    "        color = 'r',\n",
    "        marker = 'o')  \n",
    "plt.scatter(\n",
    "        dfversicolor['petal length (cm)'],\n",
    "       dfversicolor['petal width (cm)'],\n",
    "        color = 'y',\n",
    "        marker = 'o')  \n",
    "plt.scatter(\n",
    "        dfvirginica['petal length (cm)'],\n",
    "        dfvirginica['petal width (cm)'],\n",
    "        color = 'b',\n",
    "        marker = 'o')  \n",
    "\n",
    "plt.title('petal length (cm) vs petal width(cm)')\n",
    "plt.xlabel('petal length (cm)')\n",
    "plt.ylabel('petal width(cm)')\n",
    "plt.legend(['0 setosa', '1 versicolor','2 virginica'])\n",
    "plt.grid(True)"
   ]
  },
  {
   "cell_type": "code",
   "execution_count": 104,
   "metadata": {},
   "outputs": [
    {
     "data": {
      "text/html": [
       "<div>\n",
       "<style scoped>\n",
       "    .dataframe tbody tr th:only-of-type {\n",
       "        vertical-align: middle;\n",
       "    }\n",
       "\n",
       "    .dataframe tbody tr th {\n",
       "        vertical-align: top;\n",
       "    }\n",
       "\n",
       "    .dataframe thead th {\n",
       "        text-align: right;\n",
       "    }\n",
       "</style>\n",
       "<table border=\"1\" class=\"dataframe\">\n",
       "  <thead>\n",
       "    <tr style=\"text-align: right;\">\n",
       "      <th></th>\n",
       "      <th>sepal length (cm)</th>\n",
       "      <th>sepal width (cm)</th>\n",
       "      <th>petal length (cm)</th>\n",
       "      <th>petal width (cm)</th>\n",
       "      <th>target</th>\n",
       "      <th>jenis</th>\n",
       "    </tr>\n",
       "  </thead>\n",
       "  <tbody>\n",
       "    <tr>\n",
       "      <th>0</th>\n",
       "      <td>5.1</td>\n",
       "      <td>3.5</td>\n",
       "      <td>1.4</td>\n",
       "      <td>0.2</td>\n",
       "      <td>0</td>\n",
       "      <td>setosa</td>\n",
       "    </tr>\n",
       "    <tr>\n",
       "      <th>1</th>\n",
       "      <td>4.9</td>\n",
       "      <td>3.0</td>\n",
       "      <td>1.4</td>\n",
       "      <td>0.2</td>\n",
       "      <td>0</td>\n",
       "      <td>setosa</td>\n",
       "    </tr>\n",
       "    <tr>\n",
       "      <th>2</th>\n",
       "      <td>4.7</td>\n",
       "      <td>3.2</td>\n",
       "      <td>1.3</td>\n",
       "      <td>0.2</td>\n",
       "      <td>0</td>\n",
       "      <td>setosa</td>\n",
       "    </tr>\n",
       "    <tr>\n",
       "      <th>3</th>\n",
       "      <td>4.6</td>\n",
       "      <td>3.1</td>\n",
       "      <td>1.5</td>\n",
       "      <td>0.2</td>\n",
       "      <td>0</td>\n",
       "      <td>setosa</td>\n",
       "    </tr>\n",
       "    <tr>\n",
       "      <th>4</th>\n",
       "      <td>5.0</td>\n",
       "      <td>3.6</td>\n",
       "      <td>1.4</td>\n",
       "      <td>0.2</td>\n",
       "      <td>0</td>\n",
       "      <td>setosa</td>\n",
       "    </tr>\n",
       "  </tbody>\n",
       "</table>\n",
       "</div>"
      ],
      "text/plain": [
       "   sepal length (cm)  sepal width (cm)  petal length (cm)  petal width (cm)  \\\n",
       "0                5.1               3.5                1.4               0.2   \n",
       "1                4.9               3.0                1.4               0.2   \n",
       "2                4.7               3.2                1.3               0.2   \n",
       "3                4.6               3.1                1.5               0.2   \n",
       "4                5.0               3.6                1.4               0.2   \n",
       "\n",
       "   target   jenis  \n",
       "0       0  setosa  \n",
       "1       0  setosa  \n",
       "2       0  setosa  \n",
       "3       0  setosa  \n",
       "4       0  setosa  "
      ]
     },
     "execution_count": 104,
     "metadata": {},
     "output_type": "execute_result"
    }
   ],
   "source": [
    "dfiris['target'] = iris['target']\n",
    "dfiris['jenis'] = dfiris['target'].apply(\n",
    "        lambda x : iris['target_names'][x])\n",
    "dfiris.head()"
   ]
  },
  {
   "cell_type": "raw",
   "metadata": {},
   "source": [
    "#hyperplane cari garis terbaik \n",
    "#menggunakan SVM"
   ]
  },
  {
   "cell_type": "code",
   "execution_count": 105,
   "metadata": {},
   "outputs": [],
   "source": [
    "#split datasets : train 90% , test = 10%\n",
    "\n",
    "from sklearn.model_selection import train_test_split\n",
    "x_train,x_test,y_train,y_test=train_test_split(\n",
    "            dfiris[['sepal length (cm)','sepal width (cm)','petal length (cm)','petal width (cm)']],\n",
    "            dfiris['jenis'],\n",
    "            test_size = .1)"
   ]
  },
  {
   "cell_type": "code",
   "execution_count": 106,
   "metadata": {},
   "outputs": [],
   "source": [
    "#support vector machine\n",
    "#support vector classifier\n",
    "\n",
    "from sklearn.svm import SVC\n",
    "model = SVC(gamma = 'auto')"
   ]
  },
  {
   "cell_type": "code",
   "execution_count": 107,
   "metadata": {},
   "outputs": [
    {
     "data": {
      "text/plain": [
       "SVC(C=1.0, cache_size=200, class_weight=None, coef0=0.0,\n",
       "  decision_function_shape='ovr', degree=3, gamma='auto', kernel='rbf',\n",
       "  max_iter=-1, probability=False, random_state=None, shrinking=True,\n",
       "  tol=0.001, verbose=False)"
      ]
     },
     "execution_count": 107,
     "metadata": {},
     "output_type": "execute_result"
    }
   ],
   "source": [
    "model.fit(x_train,y_train)"
   ]
  },
  {
   "cell_type": "code",
   "execution_count": 108,
   "metadata": {},
   "outputs": [
    {
     "data": {
      "text/plain": [
       "array(['setosa'], dtype=object)"
      ]
     },
     "execution_count": 108,
     "metadata": {},
     "output_type": "execute_result"
    }
   ],
   "source": [
    "model.predict([[5.1,3.5,1.4,0.2]])"
   ]
  },
  {
   "cell_type": "code",
   "execution_count": 109,
   "metadata": {},
   "outputs": [
    {
     "data": {
      "text/plain": [
       "0.9925925925925926"
      ]
     },
     "execution_count": 109,
     "metadata": {},
     "output_type": "execute_result"
    }
   ],
   "source": [
    "model.score(x_train,y_train)"
   ]
  },
  {
   "cell_type": "code",
   "execution_count": 110,
   "metadata": {},
   "outputs": [
    {
     "name": "stdout",
     "output_type": "stream",
     "text": [
      "['virginica']\n",
      "versicolor\n"
     ]
    }
   ],
   "source": [
    "print(model.predict([x_test.iloc[0]]))\n",
    "print(y_test.iloc[0]) #actual\n"
   ]
  },
  {
   "cell_type": "markdown",
   "metadata": {},
   "source": [
    "# plot SVM"
   ]
  },
  {
   "cell_type": "code",
   "execution_count": null,
   "metadata": {},
   "outputs": [],
   "source": []
  },
  {
   "cell_type": "code",
   "execution_count": 119,
   "metadata": {},
   "outputs": [
    {
     "data": {
      "text/plain": [
       "<matplotlib.collections.PathCollection at 0x267af5eac18>"
      ]
     },
     "execution_count": 119,
     "metadata": {},
     "output_type": "execute_result"
    },
    {
     "data": {
      "image/png": "[encoded data removed]",
      "text/plain": [
       "<Figure size 432x288 with 1 Axes>"
      ]
     },
     "metadata": {
      "needs_background": "light"
     },
     "output_type": "display_data"
    }
   ],
   "source": [
    "def bikin_meshgrid(x,y):\n",
    "    x_min = x.min()-1\n",
    "    x_max = x.max()+1\n",
    "    y_min = y.min()-1\n",
    "    y_max = y.max()+1\n",
    "    xx,yy = np.meshgrid(\n",
    "        np.arange(x_min,x_max,.02),\n",
    "        np.arange(y_min,y_max,.02)\n",
    "    )\n",
    "    return xx,yy\n",
    "\n",
    "sepal = iris['data'][:,:2] #sepal length n width\n",
    "x0= sepal[:,0]\n",
    "x1= sepal[:,1]\n",
    "xx,yy =bikin_meshgrid(x0,x1)\n",
    "\n",
    "#fitting ulang\n",
    "model.fit(sepal,iris['target'])\n",
    "\n",
    "#plot\n",
    "\n",
    "def plotsvm(ax,model,xx,yy,**params):\n",
    "    z=model.predict(np.c_[xx.ravel(),yy.ravel()])\n",
    "    z=z.reshape(xx.shape)\n",
    "    hasil= ax.contourf(xx,yy,z,**params)\n",
    "    return hasil\n",
    "\n",
    "fig = plt.figure('SVM')\n",
    "ax = plt.subplot()\n",
    "\n",
    "plotsvm(ax,model,xx,yy,cmap = 'coolwarm',alpha =.2)\n",
    "\n",
    "plt.scatter(\n",
    "        dfsetosa['sepal length (cm)'],\n",
    "        dfsetosa['sepal width (cm)'],\n",
    "        color = 'r',\n",
    "        marker = 'o')  \n",
    "plt.scatter(\n",
    "        dfversicolor['sepal length (cm)'],\n",
    "       dfversicolor['sepal width (cm)'],\n",
    "        color = 'y',\n",
    "        marker = 'o')  \n",
    "plt.scatter(\n",
    "        dfvirginica['sepal length (cm)'],\n",
    "        dfvirginica['sepal width (cm)'],\n",
    "        color = 'b',\n",
    "        marker = 'o')  "
   ]
  },
  {
   "cell_type": "code",
   "execution_count": 125,
   "metadata": {},
   "outputs": [
    {
     "data": {
      "text/plain": [
       "<matplotlib.collections.PathCollection at 0x267b48de198>"
      ]
     },
     "execution_count": 125,
     "metadata": {},
     "output_type": "execute_result"
    },
    {
     "data": {
      "image/png": "[encoded data removed]",
      "text/plain": [
       "<Figure size 432x288 with 1 Axes>"
      ]
     },
     "metadata": {
      "needs_background": "light"
     },
     "output_type": "display_data"
    }
   ],
   "source": [
    "def bikin_meshgrid(x,y):\n",
    "    x_min = x.min()-1\n",
    "    x_max = x.max()+1\n",
    "    y_min = y.min()-1\n",
    "    y_max = y.max()+1\n",
    "    xx,yy = np.meshgrid(\n",
    "        np.arange(x_min,x_max,.02),\n",
    "        np.arange(y_min,y_max,.02)\n",
    "    )\n",
    "    return xx,yy\n",
    "\n",
    "petal = iris['data'][:,2:] #petal length n width\n",
    "x0= petal[:,0]\n",
    "x1= petal[:,1]\n",
    "xx,yy =bikin_meshgrid(x0,x1)\n",
    "\n",
    "#fitting ulang\n",
    "model.fit(petal,iris['target'])\n",
    "\n",
    "#plot\n",
    "\n",
    "def plotsvm(ax,model,xx,yy,**params):\n",
    "    z=model.predict(np.c_[xx.ravel(),yy.ravel()])\n",
    "    z=z.reshape(xx.shape)\n",
    "    hasil= ax.contourf(xx,yy,z,**params)\n",
    "    return hasil\n",
    "\n",
    "fig = plt.figure('SVM')\n",
    "ax = plt.subplot()\n",
    "\n",
    "plotsvm(ax,model,xx,yy,cmap = 'coolwarm',alpha =.2)\n",
    "\n",
    "plt.scatter(\n",
    "        dfsetosa['petal length (cm)'],\n",
    "        dfsetosa['petal width (cm)'],\n",
    "        color = 'r',\n",
    "        marker = 'o')  \n",
    "plt.scatter(\n",
    "        dfversicolor['petal length (cm)'],\n",
    "       dfversicolor['petal width (cm)'],\n",
    "        color = 'y',\n",
    "        marker = 'o')  \n",
    "plt.scatter(\n",
    "        dfvirginica['petal length (cm)'],\n",
    "        dfvirginica['petal width (cm)'],\n",
    "        color = 'b',\n",
    "fig = plt.figure('dfiris',figsize=(14,7))\n",
    "plt.subplot(121)        marker = 'o')  "
   ]
  },
  {
   "cell_type": "code",
   "execution_count": 133,
   "metadata": {},
   "outputs": [
    {
     "data": {
      "image/png": "[encoded data removed]",
      "text/plain": [
       "<Figure size 1008x504 with 2 Axes>"
      ]
     },
     "metadata": {
      "needs_background": "light"
     },
     "output_type": "display_data"
    }
   ],
   "source": [
    "fig = plt.figure('SVM',figsize=(14,7))\n",
    "\n",
    "#=======================================\n",
    "def bikin_meshgrid(x,y):\n",
    "    x_min = x.min()-1\n",
    "    x_max = x.max()+1\n",
    "    y_min = y.min()-1\n",
    "    y_max = y.max()+1\n",
    "    xx,yy = np.meshgrid(\n",
    "        np.arange(x_min,x_max,.02),\n",
    "        np.arange(y_min,y_max,.02)\n",
    "    )\n",
    "    return xx,yy\n",
    "\n",
    "sepal = iris['data'][:,:2] #sepal length n width\n",
    "x0= sepal[:,0]\n",
    "x1= sepal[:,1]\n",
    "xx,yy =bikin_meshgrid(x0,x1)\n",
    "\n",
    "#fitting ulang\n",
    "model.fit(sepal,iris['target'])\n",
    "\n",
    "#plot\n",
    "\n",
    "def plotsvm(ax,model,xx,yy,**params):\n",
    "    z=model.predict(np.c_[xx.ravel(),yy.ravel()])\n",
    "    z=z.reshape(xx.shape)\n",
    "    hasil= ax.contourf(xx,yy,z,**params)\n",
    "    return hasil\n",
    "\n",
    "fig = plt.figure('SVM')\n",
    "ax = plt.subplot(121)\n",
    "\n",
    "plotsvm(ax,model,xx,yy,cmap = 'coolwarm',alpha =.2)\n",
    "\n",
    "plt.scatter(\n",
    "        dfsetosa['sepal length (cm)'],\n",
    "        dfsetosa['sepal width (cm)'],\n",
    "        color = 'r',\n",
    "        marker = 'o')  \n",
    "plt.scatter(\n",
    "        dfversicolor['sepal length (cm)'],\n",
    "       dfversicolor['sepal width (cm)'],\n",
    "        color = 'y',\n",
    "        marker = 'o')  \n",
    "plt.scatter(\n",
    "        dfvirginica['sepal length (cm)'],\n",
    "        dfvirginica['sepal width (cm)'],\n",
    "        color = 'b',\n",
    "        marker = 'o')  \n",
    "plt.grid(True)\n",
    "#=============================================================================\n",
    "\n",
    "def bikin_meshgrid(x,y):\n",
    "    x_min = x.min()-1\n",
    "    x_max = x.max()+1\n",
    "    y_min = y.min()-1\n",
    "    y_max = y.max()+1\n",
    "    xx,yy = np.meshgrid(\n",
    "        np.arange(x_min,x_max,.02),\n",
    "        np.arange(y_min,y_max,.02)\n",
    "    )\n",
    "    return xx,yy\n",
    "\n",
    "petal = iris['data'][:,2:] #petal length n width\n",
    "x0= petal[:,0]\n",
    "x1= petal[:,1]\n",
    "xx,yy =bikin_meshgrid(x0,x1)\n",
    "\n",
    "#fitting ulang\n",
    "model.fit(petal,iris['target'])\n",
    "\n",
    "#plot\n",
    "\n",
    "def plotsvm(ax,model,xx,yy,**params):\n",
    "    z=model.predict(np.c_[xx.ravel(),yy.ravel()])\n",
    "    z=z.reshape(xx.shape)\n",
    "    hasil= ax.contourf(xx,yy,z,**params)\n",
    "    return hasil\n",
    "\n",
    "fig = plt.figure('SVM')\n",
    "ax = plt.subplot(122)\n",
    "\n",
    "plotsvm(ax,model,xx,yy,cmap = 'coolwarm',alpha =.2)\n",
    "\n",
    "plt.scatter(\n",
    "        dfsetosa['petal length (cm)'],\n",
    "        dfsetosa['petal width (cm)'],\n",
    "        color = 'r',\n",
    "        marker = 'o')  \n",
    "plt.scatter(\n",
    "        dfversicolor['petal length (cm)'],\n",
    "       dfversicolor['petal width (cm)'],\n",
    "        color = 'y',\n",
    "        marker = 'o')  \n",
    "plt.scatter(\n",
    "        dfvirginica['petal length (cm)'],\n",
    "        dfvirginica['petal width (cm)'],\n",
    "        color = 'b',\n",
    "        marker = 'o')  \n",
    "plt.grid(True)"
   ]
  },
  {
   "cell_type": "code",
   "execution_count": null,
   "metadata": {},
   "outputs": [],
   "source": []
  },
  {
   "cell_type": "code",
   "execution_count": null,
   "metadata": {},
   "outputs": [],
   "source": []
  }
 ],
 "metadata": {
  "kernelspec": {
   "display_name": "Python 3",
   "language": "python",
   "name": "python3"
  },
  "language_info": {
   "codemirror_mode": {
    "name": "ipython",
    "version": 3
   },
   "file_extension": ".py",
   "mimetype": "text/x-python",
   "name": "python",
   "nbconvert_exporter": "python",
   "pygments_lexer": "ipython3",
   "version": "3.7.2"
  }
 },
 "nbformat": 4,
 "nbformat_minor": 2
}
